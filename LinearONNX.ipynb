{
  "nbformat": 4,
  "nbformat_minor": 0,
  "metadata": {
    "colab": {
      "provenance": []
    },
    "kernelspec": {
      "name": "python3",
      "display_name": "Python 3"
    },
    "language_info": {
      "name": "python"
    }
  },
  "cells": [
    {
      "cell_type": "code",
      "execution_count": 1,
      "metadata": {
        "id": "yCvLeR-kKJtn"
      },
      "outputs": [],
      "source": [
        "import torch"
      ]
    },
    {
      "cell_type": "code",
      "source": [
        "torch.manual_seed(123)"
      ],
      "metadata": {
        "colab": {
          "base_uri": "https://localhost:8080/"
        },
        "id": "brFPopcBKOIY",
        "outputId": "44b74e12-cc9b-496e-bce9-7c179bdbc69c"
      },
      "execution_count": 2,
      "outputs": [
        {
          "output_type": "execute_result",
          "data": {
            "text/plain": [
              "<torch._C.Generator at 0x7ff46444dd90>"
            ]
          },
          "metadata": {},
          "execution_count": 2
        }
      ]
    },
    {
      "cell_type": "code",
      "source": [
        "class Net(torch.nn.Module):\n",
        "  def __init__(self, n_input, n_output):\n",
        "    super().__init__()\n",
        "\n",
        "    self.l1 = torch.nn.Linear(n_input, n_output)\n",
        "    torch.nn.init.constant_(self.l1.weight, -1.0)\n",
        "    torch.nn.init.constant_(self.l1.bias, 0.0)\n",
        "    # self.l1.weight = -1.0\n",
        "    # self.l1.bias = 0.0\n",
        "\n",
        "  def forward(self, x):\n",
        "    x1 = self.l1(x)\n",
        "    return x1"
      ],
      "metadata": {
        "id": "jsiw2QDZKS6n"
      },
      "execution_count": 3,
      "outputs": []
    },
    {
      "cell_type": "code",
      "source": [
        "net = Net(1, 1)\n",
        "print(net.l1)\n",
        "print(net.l1.weight)\n",
        "print(net.l1.bias)"
      ],
      "metadata": {
        "colab": {
          "base_uri": "https://localhost:8080/"
        },
        "id": "S67SLKLlKuLf",
        "outputId": "7decd309-a57c-493e-8c28-aceb87a5a015"
      },
      "execution_count": 4,
      "outputs": [
        {
          "output_type": "stream",
          "name": "stdout",
          "text": [
            "Linear(in_features=1, out_features=1, bias=True)\n",
            "Parameter containing:\n",
            "tensor([[-1.]], requires_grad=True)\n",
            "Parameter containing:\n",
            "tensor([0.], requires_grad=True)\n"
          ]
        }
      ]
    },
    {
      "cell_type": "code",
      "source": [
        "net.eval()\n",
        "dymmy_input = torch.randn(1,1,1,1)\n",
        "torch.onnx.export(net, dymmy_input, 'linear.onnx')"
      ],
      "metadata": {
        "id": "3bJXA2_DLELt"
      },
      "execution_count": 5,
      "outputs": []
    }
  ]
}